{
 "cells": [
  {
   "cell_type": "code",
   "execution_count": 3,
   "metadata": {},
   "outputs": [],
   "source": [
    "import glob\n",
    "import librosa\n",
    "import re\n",
    "import matplotlib.pyplot as plt\n",
    "import numpy as np\n",
    "import scipy as sp\n",
    "from tqdm import tqdm\n",
    "from sklearn.model_selection import train_test_split\n",
    "from scipy import linalg as la\n",
    "from scipy.signal import resample\n",
    "import pandas as pd\n",
    "import torch\n",
    "from torch.utils.data import Dataset, DataLoader\n",
    "from torch.nn.utils.rnn import pack_padded_sequence, pad_packed_sequence\n",
    "from torch import nn\n",
    "import torch.nn.functional as F\n",
    "import torch.optim as optim\n",
    "import gc"
   ]
  },
  {
   "cell_type": "code",
   "execution_count": 4,
   "metadata": {},
   "outputs": [
    {
     "name": "stderr",
     "output_type": "stream",
     "text": [
      "  3%|▎         | 1/38 [00:00<00:06,  5.39it/s]"
     ]
    },
    {
     "name": "stdout",
     "output_type": "stream",
     "text": [
      "1/8\n"
     ]
    },
    {
     "name": "stderr",
     "output_type": "stream",
     "text": [
      "/Users/Seong-EunCho/anaconda/lib/python3.6/site-packages/ipykernel_launcher.py:25: RuntimeWarning: divide by zero encountered in log\n",
      "/Users/Seong-EunCho/anaconda/lib/python3.6/site-packages/scipy/signal/signaltools.py:2264: RuntimeWarning: invalid value encountered in multiply\n",
      "  y = fftpack.ifft(Y, axis=axis) * (float(num) / float(Nx))\n",
      "  1%|▏         | 1/76 [00:00<00:10,  7.37it/s] "
     ]
    },
    {
     "name": "stdout",
     "output_type": "stream",
     "text": [
      "2/8\n"
     ]
    },
    {
     "name": "stderr",
     "output_type": "stream",
     "text": [
      " 78%|███████▊  | 59/76 [00:11<00:02,  6.48it/s]/Users/Seong-EunCho/anaconda/lib/python3.6/site-packages/scipy/signal/signaltools.py:2259: RuntimeWarning: invalid value encountered in true_divide\n",
      "  Y[tuple(sl)] /= 2  # halve the component at -N/2\n",
      "  0%|          | 0/76 [00:00<?, ?it/s]         "
     ]
    },
    {
     "name": "stdout",
     "output_type": "stream",
     "text": [
      "3/8\n"
     ]
    },
    {
     "name": "stderr",
     "output_type": "stream",
     "text": [
      "  1%|▏         | 1/68 [00:00<00:10,  6.50it/s] "
     ]
    },
    {
     "name": "stdout",
     "output_type": "stream",
     "text": [
      "4/8\n"
     ]
    },
    {
     "name": "stderr",
     "output_type": "stream",
     "text": [
      "  0%|          | 0/70 [00:00<?, ?it/s]         "
     ]
    },
    {
     "name": "stdout",
     "output_type": "stream",
     "text": [
      "5/8\n"
     ]
    },
    {
     "name": "stderr",
     "output_type": "stream",
     "text": [
      "  3%|▎         | 1/35 [00:00<00:05,  5.70it/s] "
     ]
    },
    {
     "name": "stdout",
     "output_type": "stream",
     "text": [
      "6/8\n"
     ]
    },
    {
     "name": "stderr",
     "output_type": "stream",
     "text": [
      "  0%|          | 0/77 [00:00<?, ?it/s]         "
     ]
    },
    {
     "name": "stdout",
     "output_type": "stream",
     "text": [
      "7/8\n"
     ]
    },
    {
     "name": "stderr",
     "output_type": "stream",
     "text": [
      "  5%|▍         | 1/22 [00:00<00:03,  6.10it/s] "
     ]
    },
    {
     "name": "stdout",
     "output_type": "stream",
     "text": [
      "8/8\n"
     ]
    },
    {
     "name": "stderr",
     "output_type": "stream",
     "text": [
      "                                               \r"
     ]
    }
   ],
   "source": [
    "train_loc = \"TIMIT/TRAIN/*\"\n",
    "train_data = {\"raw_signal\": [], \"mel\": [], \"label\": []}\n",
    "audios = []\n",
    "rate = 16000\n",
    "mel_ = librosa.filters.mel(rate, 2048, n_mels=80)\n",
    "N = len(glob.glob(train_loc))\n",
    "for i, f_1 in enumerate(glob.glob(train_loc)):\n",
    "    print(str(i+1) + \"/\" + str(N))\n",
    "    loop = tqdm(total=len(glob.glob(f_1 + '/*')), position=0, leave=False)\n",
    "    for f_2 in glob.glob(f_1 + '/*'):\n",
    "        wav_files = glob.glob(f_2 + '/*.WAV')\n",
    "        for wav_file in wav_files:\n",
    "            f_name = wav_file.split('/')[-1].split('.')[0]\n",
    "            phn_file = f_2 + '/' + f_name + '.PHN'\n",
    "            phones = open(phn_file, 'r').read()\n",
    "            signal, rate = librosa.load(wav_file, sr=None)\n",
    "            audio = signal\n",
    "            for line in phones.split('\\n'):\n",
    "                segment = line.split()\n",
    "                if len(segment) == 3:\n",
    "                    start = int(segment[0])\n",
    "                    end = int(segment[1])\n",
    "                    phoneme = segment[2]\n",
    "                    sample = signal[start:end]\n",
    "                    spectrum = np.log(np.abs(sp.fft(sample))[:len(sample)//2])\n",
    "                    spectrum = resample(spectrum, 1025)\n",
    "                    mel = np.dot(mel_, spectrum)\n",
    "                    train_data[\"raw_signal\"].append(sample)\n",
    "                    train_data[\"mel\"].append(mel)\n",
    "                    train_data[\"label\"].append(phoneme)\n",
    "        loop.update(1)\n",
    "    loop.close()"
   ]
  },
  {
   "cell_type": "code",
   "execution_count": 5,
   "metadata": {},
   "outputs": [
    {
     "name": "stderr",
     "output_type": "stream",
     "text": [
      "  9%|▉         | 1/11 [00:00<00:01,  5.27it/s]"
     ]
    },
    {
     "name": "stdout",
     "output_type": "stream",
     "text": [
      "1/8\n"
     ]
    },
    {
     "name": "stderr",
     "output_type": "stream",
     "text": [
      "  4%|▍         | 1/26 [00:00<00:03,  7.19it/s] "
     ]
    },
    {
     "name": "stdout",
     "output_type": "stream",
     "text": [
      "2/8\n"
     ]
    },
    {
     "name": "stderr",
     "output_type": "stream",
     "text": [
      " 35%|███▍      | 9/26 [00:01<00:02,  6.13it/s]/Users/Seong-EunCho/anaconda/lib/python3.6/site-packages/ipykernel_launcher.py:25: RuntimeWarning: divide by zero encountered in log\n",
      "/Users/Seong-EunCho/anaconda/lib/python3.6/site-packages/scipy/signal/signaltools.py:2259: RuntimeWarning: invalid value encountered in true_divide\n",
      "  Y[tuple(sl)] /= 2  # halve the component at -N/2\n",
      "/Users/Seong-EunCho/anaconda/lib/python3.6/site-packages/scipy/signal/signaltools.py:2264: RuntimeWarning: invalid value encountered in multiply\n",
      "  y = fftpack.ifft(Y, axis=axis) * (float(num) / float(Nx))\n",
      "  4%|▍         | 1/26 [00:00<00:02,  8.65it/s] "
     ]
    },
    {
     "name": "stdout",
     "output_type": "stream",
     "text": [
      "3/8\n"
     ]
    },
    {
     "name": "stderr",
     "output_type": "stream",
     "text": [
      "  3%|▎         | 1/32 [00:00<00:05,  5.29it/s] "
     ]
    },
    {
     "name": "stdout",
     "output_type": "stream",
     "text": [
      "4/8\n"
     ]
    },
    {
     "name": "stderr",
     "output_type": "stream",
     "text": [
      "  0%|          | 0/28 [00:00<?, ?it/s]         "
     ]
    },
    {
     "name": "stdout",
     "output_type": "stream",
     "text": [
      "5/8\n"
     ]
    },
    {
     "name": "stderr",
     "output_type": "stream",
     "text": [
      "  9%|▉         | 1/11 [00:00<00:01,  7.01it/s] "
     ]
    },
    {
     "name": "stdout",
     "output_type": "stream",
     "text": [
      "6/8\n"
     ]
    },
    {
     "name": "stderr",
     "output_type": "stream",
     "text": [
      "  4%|▍         | 1/23 [00:00<00:03,  5.70it/s] "
     ]
    },
    {
     "name": "stdout",
     "output_type": "stream",
     "text": [
      "7/8\n"
     ]
    },
    {
     "name": "stderr",
     "output_type": "stream",
     "text": [
      "  9%|▉         | 1/11 [00:00<00:01,  7.14it/s] "
     ]
    },
    {
     "name": "stdout",
     "output_type": "stream",
     "text": [
      "8/8\n"
     ]
    },
    {
     "name": "stderr",
     "output_type": "stream",
     "text": [
      "                                               \r"
     ]
    }
   ],
   "source": [
    "test_loc = \"TIMIT/TEST/*\"\n",
    "test_data = {\"raw_signal\": [], \"mel\": [], \"label\": []}\n",
    "audios = []\n",
    "rate = 16000\n",
    "mel_ = librosa.filters.mel(rate, 2048, n_mels=80)\n",
    "N = len(glob.glob(test_loc))\n",
    "for i, f_1 in enumerate(glob.glob(test_loc)):\n",
    "    print(str(i+1) + \"/\" + str(N))\n",
    "    loop = tqdm(total=len(glob.glob(f_1 + '/*')), position=0, leave=False)\n",
    "    for f_2 in glob.glob(f_1 + '/*'):\n",
    "        wav_files = glob.glob(f_2 + '/*.WAV')\n",
    "        for wav_file in wav_files:\n",
    "            f_name = wav_file.split('/')[-1].split('.')[0]\n",
    "            phn_file = f_2 + '/' + f_name + '.PHN'\n",
    "            phones = open(phn_file, 'r').read()\n",
    "            signal, rate = librosa.load(wav_file, sr=None)\n",
    "            audio = signal\n",
    "            for line in phones.split('\\n'):\n",
    "                segment = line.split()\n",
    "                if len(segment) == 3:\n",
    "                    start = int(segment[0])\n",
    "                    end = int(segment[1])\n",
    "                    phoneme = segment[2]\n",
    "                    sample = signal[start:end]\n",
    "                    spectrum = np.log(np.abs(sp.fft(sample))[:len(sample)//2])\n",
    "                    spectrum = resample(spectrum, 1025)\n",
    "                    mel = np.dot(mel_, spectrum)\n",
    "                    test_data[\"raw_signal\"].append(sample)\n",
    "                    test_data[\"mel\"].append(mel)\n",
    "                    test_data[\"label\"].append(phoneme)\n",
    "        loop.update(1)\n",
    "    loop.close()"
   ]
  },
  {
   "cell_type": "code",
   "execution_count": 6,
   "metadata": {},
   "outputs": [],
   "source": [
    "data = pd.DataFrame(np.vstack(train_data[\"mel\"]))\n",
    "data[\"phoneme\"] = train_data[\"label\"]\n",
    "data = data.dropna()\n",
    "data.phoneme = data.phoneme.astype('category')\n",
    "X_train = data.drop(columns=[\"phoneme\"]).values\n",
    "y_train = data.phoneme.values.codes"
   ]
  },
  {
   "cell_type": "code",
   "execution_count": 7,
   "metadata": {},
   "outputs": [],
   "source": [
    "data = pd.DataFrame(np.vstack(test_data[\"mel\"]))\n",
    "data[\"phoneme\"] = test_data[\"label\"]\n",
    "data = data.dropna()\n",
    "data.phoneme = data.phoneme.astype('category')\n",
    "X_test = data.drop(columns=[\"phoneme\"]).values\n",
    "y_test = data.phoneme.values.codes"
   ]
  },
  {
   "cell_type": "code",
   "execution_count": 9,
   "metadata": {},
   "outputs": [],
   "source": [
    "class TimitMelDataset(Dataset):\n",
    "    def __init__(self, X, y):\n",
    "        super().__init__()\n",
    "        self.X = X\n",
    "        self.y = y\n",
    "    def __len__(self):\n",
    "        return len(self.y)\n",
    "    def __getitem__(self, idx):\n",
    "        return self.X[idx], self.y[idx]\n",
    "\n",
    "class TimitMelClassifier(nn.Module):\n",
    "    def __init__(self):\n",
    "        super(TimitMelClassifier, self).__init__()\n",
    "        embedding_dim = 80\n",
    "        output_dim = 61\n",
    "        self.net = nn.Sequential(\n",
    "            nn.Linear(embedding_dim, 128),\n",
    "            nn.ReLU(),\n",
    "            nn.Linear(128, 128),\n",
    "            nn.ReLU(),\n",
    "            nn.Linear(128, 128),\n",
    "            nn.ReLU(),\n",
    "            nn.Linear(128, 128),\n",
    "            nn.ReLU(),\n",
    "            nn.Linear(128, 128),\n",
    "            nn.ReLU(),\n",
    "            nn.Linear(128, 128),\n",
    "            nn.ReLU(),\n",
    "            nn.Linear(128, 128),\n",
    "            nn.ReLU(),\n",
    "            nn.Linear(128, 128),\n",
    "            nn.ReLU(),\n",
    "            nn.Linear(128, 128),\n",
    "            nn.ReLU(),\n",
    "            nn.Linear(128, 128),\n",
    "            nn.ReLU(),\n",
    "            nn.Linear(128, output_dim)\n",
    "        )\n",
    "    def forward(self, inp):\n",
    "        return self.net(inp)"
   ]
  },
  {
   "cell_type": "code",
   "execution_count": 10,
   "metadata": {},
   "outputs": [
    {
     "name": "stderr",
     "output_type": "stream",
     "text": [
      "                                                                                        \r"
     ]
    }
   ],
   "source": [
    "def calc_accuracy(y_hat, y_truth):\n",
    "    return sum(y_hat.argmax(dim=1) == y_truth.long()).item() / len(y_truth)\n",
    "\n",
    "batch_size = 128\n",
    "update_every_batch = 20\n",
    "epochs = 200\n",
    "eta = 1e-4\n",
    "\n",
    "mel_train_dataset = TimitMelDataset(X_train, y_train)\n",
    "mel_train_dataloader = DataLoader(mel_train_dataset, \n",
    "                                  batch_size=batch_size, \n",
    "                                  shuffle=True)\n",
    "model = TimitMelClassifier()\n",
    "objective = nn.CrossEntropyLoss()\n",
    "optimizer = optim.Adam(model.parameters(), lr=eta)\n",
    "losses = []\n",
    "accuracies = []\n",
    "accuracy = np.nan\n",
    "for e in range(epochs):\n",
    "    loop = tqdm(total=len(mel_train_dataloader) // update_every_batch, position=0, leave=False)\n",
    "    sum_loss = 0\n",
    "    for batch, (x, y_truth) in enumerate(mel_train_dataloader):\n",
    "        optimizer.zero_grad()\n",
    "        y_hat = model(x.float())\n",
    "        loss = objective(y_hat, y_truth.long())\n",
    "        loss.backward()\n",
    "        optimizer.step()\n",
    "        sum_loss += loss\n",
    "        #loop.set_description('epoch:{}, loss:{:.4f}, accuracy:{:.4f}'.format(e, loss, accuracy))\n",
    "        if batch % update_every_batch == 0 and batch!=0:\n",
    "            accuracy = calc_accuracy(y_hat, y_truth)\n",
    "            ave_loss = sum_loss / update_every_batch\n",
    "            sum_loss = 0\n",
    "            loop.set_description('epoch:{}, loss:{:.4f}, accuracy:{:.4f}'.format(e, loss, accuracy))\n",
    "            loop.update(1)\n",
    "            losses.append(ave_loss)\n",
    "            accuracies.append(accuracy)\n",
    "    loop.close()"
   ]
  },
  {
   "cell_type": "code",
   "execution_count": 1,
   "metadata": {},
   "outputs": [
    {
     "ename": "NameError",
     "evalue": "name 'mel_train_dataloader' is not defined",
     "output_type": "error",
     "traceback": [
      "\u001b[0;31m---------------------------------------------------------------------------\u001b[0m",
      "\u001b[0;31mNameError\u001b[0m                                 Traceback (most recent call last)",
      "\u001b[0;32m<ipython-input-1-d845b6db99a1>\u001b[0m in \u001b[0;36m<module>\u001b[0;34m()\u001b[0m\n\u001b[0;32m----> 1\u001b[0;31m \u001b[0mx1\u001b[0m\u001b[0;34m,\u001b[0m \u001b[0my1\u001b[0m \u001b[0;34m=\u001b[0m \u001b[0mnext\u001b[0m\u001b[0;34m(\u001b[0m\u001b[0miter\u001b[0m\u001b[0;34m(\u001b[0m\u001b[0mmel_train_dataloader\u001b[0m\u001b[0;34m)\u001b[0m\u001b[0;34m)\u001b[0m\u001b[0;34m\u001b[0m\u001b[0;34m\u001b[0m\u001b[0m\n\u001b[0m\u001b[1;32m      2\u001b[0m \u001b[0mmodel\u001b[0m \u001b[0;34m=\u001b[0m \u001b[0mTimitMelClassifier\u001b[0m\u001b[0;34m(\u001b[0m\u001b[0;34m)\u001b[0m\u001b[0;34m\u001b[0m\u001b[0;34m\u001b[0m\u001b[0m\n\u001b[1;32m      3\u001b[0m \u001b[0my_hat\u001b[0m \u001b[0;34m=\u001b[0m \u001b[0mmodel\u001b[0m\u001b[0;34m(\u001b[0m\u001b[0mx1\u001b[0m\u001b[0;34m.\u001b[0m\u001b[0mfloat\u001b[0m\u001b[0;34m(\u001b[0m\u001b[0;34m)\u001b[0m\u001b[0;34m)\u001b[0m\u001b[0;34m\u001b[0m\u001b[0;34m\u001b[0m\u001b[0m\n\u001b[1;32m      4\u001b[0m \u001b[0my_hat\u001b[0m\u001b[0;34m.\u001b[0m\u001b[0mshape\u001b[0m\u001b[0;34m\u001b[0m\u001b[0;34m\u001b[0m\u001b[0m\n",
      "\u001b[0;31mNameError\u001b[0m: name 'mel_train_dataloader' is not defined"
     ]
    }
   ],
   "source": [
    "x1, y1 = next(iter(mel_train_dataloader))\n",
    "model = TimitMelClassifier()\n",
    "y_hat = model(x1.float())\n",
    "y_hat.shape"
   ]
  },
  {
   "cell_type": "code",
   "execution_count": 11,
   "metadata": {},
   "outputs": [
    {
     "data": {
      "image/png": "[encoded data removed]",
      "text/plain": [
       "<Figure size 432x288 with 1 Axes>"
      ]
     },
     "metadata": {},
     "output_type": "display_data"
    },
    {
     "data": {
      "image/png": "[encoded data removed]",
      "text/plain": [
       "<Figure size 432x288 with 1 Axes>"
      ]
     },
     "metadata": {},
     "output_type": "display_data"
    }
   ],
   "source": [
    "plt.plot(losses)\n",
    "plt.show()\n",
    "plt.plot(accuracies)\n",
    "plt.show()"
   ]
  },
  {
   "cell_type": "code",
   "execution_count": 12,
   "metadata": {},
   "outputs": [
    {
     "data": {
      "text/plain": [
       "0.44874093708583457"
      ]
     },
     "execution_count": 12,
     "metadata": {},
     "output_type": "execute_result"
    }
   ],
   "source": [
    "y_pred = model(torch.tensor(X_test).float())\n",
    "y_pred = y_pred.argmax(dim=1)\n",
    "sum(y_pred.numpy() == y_test) / len(y_test)"
   ]
  },
  {
   "cell_type": "code",
   "execution_count": 45,
   "metadata": {},
   "outputs": [],
   "source": [
    "y_pred = np.array([])\n",
    "for i in range(int(len(X_test)/batch_size) + 1):\n",
    "    curr_pred = model(torch.tensor(X_test[i*batch_size:(i+1)*batch_size]).float().unsqueeze(1))\n",
    "    curr_pred = curr_pred.argmax(dim=1)\n",
    "    y_pred = np.concatenate([y_pred, curr_pred.numpy()]).astype(int)"
   ]
  },
  {
   "cell_type": "code",
   "execution_count": 46,
   "metadata": {},
   "outputs": [
    {
     "data": {
      "text/plain": [
       "0.3887892726280502"
      ]
     },
     "execution_count": 46,
     "metadata": {},
     "output_type": "execute_result"
    }
   ],
   "source": [
    "sum(y_pred == y_test) / len(y_test)"
   ]
  },
  {
   "cell_type": "code",
   "execution_count": null,
   "metadata": {},
   "outputs": [],
   "source": []
  }
 ],
 "metadata": {
  "kernelspec": {
   "display_name": "Python 3",
   "language": "python",
   "name": "python3"
  },
  "language_info": {
   "codemirror_mode": {
    "name": "ipython",
    "version": 3
   },
   "file_extension": ".py",
   "mimetype": "text/x-python",
   "name": "python",
   "nbconvert_exporter": "python",
   "pygments_lexer": "ipython3",
   "version": "3.6.7"
  }
 },
 "nbformat": 4,
 "nbformat_minor": 2
}
