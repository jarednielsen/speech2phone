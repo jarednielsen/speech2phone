{
 "cells": [
  {
   "cell_type": "code",
   "execution_count": 2,
   "metadata": {},
   "outputs": [],
   "source": [
    "import matplotlib.pyplot as plt\n",
    "import matplotlib.animation as animation\n",
    "import numpy as np\n",
    "from sklearn.ensemble import RandomForestClassifier\n",
    "\n",
    "from hyperopt import hp\n",
    "from hyperopt import fmin, tpe, space_eval\n",
    "from hyperopt.pyll.base import scope\n",
    "\n",
    "\n",
    "import mag\n",
    "from mag.experiment import Experiment\n",
    "from mag import summarize\n",
    "\n",
    "\n",
    "from speech2phone.preprocessing import get_TIMIT, get_phones\n",
    "from speech2phone.preprocessing.filters import mel\n",
    "\n",
    "np.set_printoptions(precision=3)"
   ]
  },
  {
   "cell_type": "markdown",
   "metadata": {},
   "source": [
    "# Random Forest with `mag`"
   ]
  },
  {
   "cell_type": "code",
   "execution_count": 3,
   "metadata": {},
   "outputs": [
    {
     "name": "stdout",
     "output_type": "stream",
     "text": [
      "Loading toy/mel set from cache... done.\n"
     ]
    }
   ],
   "source": [
    "X_toy, y_toy = get_TIMIT(dataset='toy', preprocessor=mel, TIMIT_root='../TIMIT/TIMIT')"
   ]
  },
  {
   "cell_type": "code",
   "execution_count": 4,
   "metadata": {},
   "outputs": [
    {
     "ename": "ValueError",
     "evalue": "Experiment with identifier 10|11 already exists. Set `resume_from` to the corresponding identifier (directory name) 10|11 or delete it manually and then rerun the code.",
     "output_type": "error",
     "traceback": [
      "\u001b[0;31m---------------------------------------------------------------------------\u001b[0m",
      "\u001b[0;31mValueError\u001b[0m                                Traceback (most recent call last)",
      "\u001b[0;32m<ipython-input-4-a7efe7480eac>\u001b[0m in \u001b[0;36m<module>\u001b[0;34m\u001b[0m\n\u001b[1;32m     12\u001b[0m     \u001b[0;34m'max_depth'\u001b[0m\u001b[0;34m:\u001b[0m \u001b[0;36m10\u001b[0m\u001b[0;34m\u001b[0m\u001b[0;34m\u001b[0m\u001b[0m\n\u001b[1;32m     13\u001b[0m }\n\u001b[0;32m---> 14\u001b[0;31m \u001b[0;32mwith\u001b[0m \u001b[0mExperiment\u001b[0m\u001b[0;34m(\u001b[0m\u001b[0mconfig\u001b[0m\u001b[0;34m=\u001b[0m\u001b[0mconfig\u001b[0m\u001b[0;34m,\u001b[0m \u001b[0mexperiments_dir\u001b[0m\u001b[0;34m=\u001b[0m\u001b[0mexperiments_dir\u001b[0m\u001b[0;34m)\u001b[0m \u001b[0;32mas\u001b[0m \u001b[0mexperiment\u001b[0m\u001b[0;34m:\u001b[0m\u001b[0;34m\u001b[0m\u001b[0;34m\u001b[0m\u001b[0m\n\u001b[0m\u001b[1;32m     15\u001b[0m     \u001b[0mconfig\u001b[0m \u001b[0;34m=\u001b[0m \u001b[0mexperiment\u001b[0m\u001b[0;34m.\u001b[0m\u001b[0mconfig\u001b[0m\u001b[0;34m\u001b[0m\u001b[0;34m\u001b[0m\u001b[0m\n\u001b[1;32m     16\u001b[0m     \u001b[0macc\u001b[0m \u001b[0;34m=\u001b[0m \u001b[0mrandom_forest_acc\u001b[0m\u001b[0;34m(\u001b[0m\u001b[0mconfig\u001b[0m\u001b[0;34m.\u001b[0m\u001b[0mn_estimators\u001b[0m\u001b[0;34m,\u001b[0m \u001b[0mconfig\u001b[0m\u001b[0;34m.\u001b[0m\u001b[0mmax_depth\u001b[0m\u001b[0;34m)\u001b[0m\u001b[0;34m\u001b[0m\u001b[0;34m\u001b[0m\u001b[0m\n",
      "\u001b[0;32m~/anaconda3/lib/python3.6/site-packages/mag/experiment.py\u001b[0m in \u001b[0;36m__init__\u001b[0;34m(self, config, resume_from, logfile_name, experiments_dir, implicit_resuming)\u001b[0m\n\u001b[1;32m     77\u001b[0m                         \"manually and then rerun the code.\".format(\n\u001b[1;32m     78\u001b[0m                             \u001b[0midentifier\u001b[0m\u001b[0;34m=\u001b[0m\u001b[0mself\u001b[0m\u001b[0;34m.\u001b[0m\u001b[0mconfig\u001b[0m\u001b[0;34m.\u001b[0m\u001b[0midentifier\u001b[0m\u001b[0;34m,\u001b[0m\u001b[0;34m\u001b[0m\u001b[0;34m\u001b[0m\u001b[0m\n\u001b[0;32m---> 79\u001b[0;31m                             \u001b[0mdirectory\u001b[0m\u001b[0;34m=\u001b[0m\u001b[0mself\u001b[0m\u001b[0;34m.\u001b[0m\u001b[0mconfig\u001b[0m\u001b[0;34m.\u001b[0m\u001b[0midentifier\u001b[0m\u001b[0;34m\u001b[0m\u001b[0;34m\u001b[0m\u001b[0m\n\u001b[0m\u001b[1;32m     80\u001b[0m                         )\n\u001b[1;32m     81\u001b[0m                     )\n",
      "\u001b[0;31mValueError\u001b[0m: Experiment with identifier 10|11 already exists. Set `resume_from` to the corresponding identifier (directory name) 10|11 or delete it manually and then rerun the code."
     ]
    }
   ],
   "source": [
    "def random_forest_acc(n_estimators, max_depth):\n",
    "    rf = RandomForestClassifier(n_estimators=n_estimators, max_depth=max_depth, random_state=42)\n",
    "    rf.fit(X_toy, y_toy)\n",
    "    acc = rf.score(X_toy, y_toy)\n",
    "    return acc\n",
    "\n",
    "\n",
    "\n",
    "experiments_dir = '../experiments/results/random_forest_v1'\n",
    "config = {\n",
    "    'n_estimators': 11,\n",
    "    'max_depth': 10\n",
    "}\n",
    "with Experiment(config=config, experiments_dir=experiments_dir) as experiment:\n",
    "    config = experiment.config\n",
    "    acc = random_forest_acc(config.n_estimators, config.max_depth)\n",
    "    \n",
    "    experiment.register_result('accuracy', acc)"
   ]
  },
  {
   "cell_type": "markdown",
   "metadata": {},
   "source": [
    "# Random Forest with `hyperopt`"
   ]
  },
  {
   "cell_type": "code",
   "execution_count": 5,
   "metadata": {},
   "outputs": [
    {
     "name": "stdout",
     "output_type": "stream",
     "text": [
      "{'max_depth': 20, 'n_estimators': 4}: 0.903\n",
      "{'max_depth': 1, 'n_estimators': 99}: 0.137\n",
      "{'max_depth': 13, 'n_estimators': 61}: 0.982\n",
      "{'max_depth': 5, 'n_estimators': 98}: 0.321\n",
      "{'max_depth': 15, 'n_estimators': 56}: 0.998\n",
      "{'max_depth': 6, 'n_estimators': 10}: 0.374\n",
      "{'max_depth': 14, 'n_estimators': 41}: 0.992\n",
      "{'max_depth': 9, 'n_estimators': 34}: 0.672\n",
      "{'max_depth': 5, 'n_estimators': 16}: 0.312\n",
      "{'max_depth': 7, 'n_estimators': 77}: 0.465\n",
      "{'max_depth': 25, 'n_estimators': 68}: 1.000\n",
      "{'max_depth': 25, 'n_estimators': 39}: 1.000\n",
      "{'max_depth': 2, 'n_estimators': 74}: 0.145\n",
      "{'max_depth': 6, 'n_estimators': 6}: 0.350\n",
      "{'max_depth': 13, 'n_estimators': 87}: 0.985\n",
      "{'max_depth': 29, 'n_estimators': 35}: 1.000\n",
      "{'max_depth': 24, 'n_estimators': 82}: 1.000\n",
      "{'max_depth': 21, 'n_estimators': 49}: 1.000\n",
      "{'max_depth': 29, 'n_estimators': 40}: 1.000\n",
      "{'max_depth': 19, 'n_estimators': 21}: 1.000\n",
      "{'max_depth': 19, 'n_estimators': 22}: 1.000\n",
      "{'max_depth': 29, 'n_estimators': 64}: 1.000\n",
      "{'max_depth': 25, 'n_estimators': 24}: 1.000\n",
      "{'max_depth': 17, 'n_estimators': 28}: 0.999\n",
      "{'max_depth': 28, 'n_estimators': 51}: 1.000\n",
      "{'max_depth': 28, 'n_estimators': 50}: 1.000\n",
      "{'max_depth': 22, 'n_estimators': 48}: 1.000\n",
      "{'max_depth': 22, 'n_estimators': 30}: 1.000\n",
      "{'max_depth': 23, 'n_estimators': 92}: 1.000\n",
      "{'max_depth': 17, 'n_estimators': 91}: 1.000\n",
      "{'max_depth': 17, 'n_estimators': 82}: 1.000\n",
      "{'max_depth': 27, 'n_estimators': 1}: 0.694\n",
      "{'max_depth': 9, 'n_estimators': 17}: 0.644\n",
      "{'max_depth': 20, 'n_estimators': 59}: 1.000\n",
      "{'max_depth': 16, 'n_estimators': 79}: 0.999\n",
      "{'max_depth': 11, 'n_estimators': 45}: 0.893\n",
      "{'max_depth': 21, 'n_estimators': 67}: 1.000\n",
      "{'max_depth': 14, 'n_estimators': 71}: 0.996\n",
      "{'max_depth': 12, 'n_estimators': 12}: 0.881\n",
      "{'max_depth': 19, 'n_estimators': 56}: 1.000\n",
      "{'max_depth': 16, 'n_estimators': 65}: 0.999\n",
      "{'max_depth': 1, 'n_estimators': 42}: 0.136\n",
      "{'max_depth': 23, 'n_estimators': 7}: 0.972\n",
      "{'max_depth': 26, 'n_estimators': 61}: 1.000\n",
      "{'max_depth': 18, 'n_estimators': 53}: 1.000\n",
      "{'max_depth': 3, 'n_estimators': 35}: 0.235\n",
      "{'max_depth': 24, 'n_estimators': 98}: 1.000\n",
      "{'max_depth': 29, 'n_estimators': 98}: 1.000\n",
      "{'max_depth': 24, 'n_estimators': 99}: 1.000\n",
      "{'max_depth': 27, 'n_estimators': 18}: 0.999\n",
      "100%|██████████| 50/50 [02:11<00:00,  3.76s/it, best loss: -1.0]\n",
      "\n",
      "Best Raw: {'max_depth': 25.83214959251485, 'n_estimators': 68.2423356949847}\n",
      "Best Readable: {'max_depth': 25, 'n_estimators': 68}\n"
     ]
    }
   ],
   "source": [
    "def acc_wrapper(args):\n",
    "    acc = random_forest_acc(args['n_estimators'], args['max_depth'])\n",
    "    print(\"{}: {:.3f}\".format(args, acc))\n",
    "    return -acc\n",
    "\n",
    "space = {\n",
    "    'n_estimators': scope.int(hp.uniform('n_estimators', 1, 100)),\n",
    "    'max_depth': scope.int(hp.uniform('max_depth', 1, 30))\n",
    "\n",
    "}\n",
    "best = fmin(acc_wrapper, space, algo=tpe.suggest, max_evals=50)\n",
    "print(\"\")\n",
    "print(\"Best Raw:\", best)\n",
    "print(\"Best Readable:\", space_eval(space, best))"
   ]
  },
  {
   "cell_type": "markdown",
   "metadata": {},
   "source": [
    "# Random Forest with `mag` and `hyperopt`"
   ]
  },
  {
   "cell_type": "code",
   "execution_count": 6,
   "metadata": {},
   "outputs": [
    {
     "name": "stdout",
     "output_type": "stream",
     "text": [
      "\n",
      "Best Raw: {'max_depth': 22.532586122234616, 'n_estimators': 41.60007385667237}\n",
      "Best Readable: {'max_depth': 22, 'n_estimators': 41}\n"
     ]
    }
   ],
   "source": [
    "def acc_wrapper(args):\n",
    "    experiments_dir = '../experiments/results/random_forest_v2'\n",
    "    with Experiment(config=args, experiments_dir=experiments_dir) as experiment:\n",
    "        config = experiment.config\n",
    "        acc = random_forest_acc(config.n_estimators, config.max_depth)\n",
    "        experiment.register_result('accuracy', acc)\n",
    "    return -acc\n",
    "\n",
    "space = {\n",
    "    'n_estimators': scope.int(hp.uniform('n_estimators', 1, 100)),\n",
    "    'max_depth': scope.int(hp.uniform('max_depth', 1, 30))\n",
    "\n",
    "}\n",
    "best = fmin(acc_wrapper, space, algo=tpe.suggest, max_evals=5)\n",
    "print(\"\")\n",
    "print(\"Best Raw:\", best)\n",
    "print(\"Best Readable:\", space_eval(space, best))"
   ]
  },
  {
   "cell_type": "code",
   "execution_count": null,
   "metadata": {},
   "outputs": [],
   "source": []
  }
 ],
 "metadata": {
  "kernelspec": {
   "display_name": "Python 3",
   "language": "python",
   "name": "python3"
  },
  "language_info": {
   "codemirror_mode": {
    "name": "ipython",
    "version": 3
   },
   "file_extension": ".py",
   "mimetype": "text/x-python",
   "name": "python",
   "nbconvert_exporter": "python",
   "pygments_lexer": "ipython3",
   "version": "3.6.8"
  }
 },
 "nbformat": 4,
 "nbformat_minor": 2
}
