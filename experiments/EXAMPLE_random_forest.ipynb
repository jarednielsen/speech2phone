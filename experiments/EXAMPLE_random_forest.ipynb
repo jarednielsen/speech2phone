{
 "cells": [
  {
   "cell_type": "code",
   "execution_count": 33,
   "metadata": {},
   "outputs": [],
   "source": [
    "import matplotlib.pyplot as plt\n",
    "import matplotlib.animation as animation\n",
    "import numpy as np\n",
    "from sklearn.ensemble import RandomForestClassifier\n",
    "\n",
    "from hyperopt import hp\n",
    "from hyperopt import fmin, tpe, space_eval\n",
    "from hyperopt.pyll.base import scope\n",
    "\n",
    "\n",
    "import mag\n",
    "from mag.experiment import Experiment\n",
    "from mag import summarize\n",
    "\n",
    "\n",
    "from speech2phone.preprocessing import get_TIMIT, get_phones\n",
    "from speech2phone.preprocessing.filters import mel\n",
    "\n",
    "np.set_printoptions(precision=3)"
   ]
  },
  {
   "cell_type": "markdown",
   "metadata": {},
   "source": [
    "# Random Forest with `mag`"
   ]
  },
  {
   "cell_type": "code",
   "execution_count": 11,
   "metadata": {},
   "outputs": [
    {
     "name": "stdout",
     "output_type": "stream",
     "text": [
      "Loading toy/mel set from cache... done.\n"
     ]
    }
   ],
   "source": [
    "X_toy, y_toy = get_TIMIT(dataset='toy', preprocessor=mel, TIMIT_root='../TIMIT/TIMIT')"
   ]
  },
  {
   "cell_type": "code",
   "execution_count": 26,
   "metadata": {},
   "outputs": [],
   "source": [
    "def random_forest_acc(n_estimators, max_depth):\n",
    "    rf = RandomForestClassifier(n_estimators=n_estimators, max_depth=max_depth, random_state=42)\n",
    "    rf.fit(X_toy, y_toy)\n",
    "    acc = rf.score(X_toy, y_toy)\n",
    "    return acc\n",
    "\n",
    "\n",
    "\n",
    "experiments_dir = '../experiments/results/random_forest_v1'\n",
    "config = {\n",
    "    'n_estimators': 11,\n",
    "    'max_depth': 10\n",
    "}\n",
    "with Experiment(config=config, experiments_dir=experiments_dir) as experiment:\n",
    "    config = experiment.config\n",
    "    acc = random_forest_acc(config.n_estimators, config.max_depth)\n",
    "    \n",
    "    experiment.register_result('accuracy', acc)"
   ]
  },
  {
   "cell_type": "markdown",
   "metadata": {},
   "source": [
    "# Random Forest with `hyperopt`"
   ]
  },
  {
   "cell_type": "code",
   "execution_count": 41,
   "metadata": {},
   "outputs": [
    {
     "name": "stdout",
     "output_type": "stream",
     "text": [
      "{'max_depth': 1, 'n_estimators': 36}: 0.133\n",
      "{'max_depth': 29, 'n_estimators': 62}: 1.000\n",
      "{'max_depth': 18, 'n_estimators': 92}: 1.000\n",
      "{'max_depth': 29, 'n_estimators': 38}: 1.000\n",
      "{'max_depth': 9, 'n_estimators': 21}: 0.647\n",
      "\n",
      "Best Raw: {'max_depth': 1.2407552544797074, 'n_estimators': 36.46446756647321}\n",
      "Best Readable: {'max_depth': 1, 'n_estimators': 36}\n"
     ]
    }
   ],
   "source": [
    "def acc_wrapper(args):\n",
    "    acc = random_forest_acc(args['n_estimators'], args['max_depth'])\n",
    "    print(\"{}: {:.3f}\".format(args, acc))\n",
    "    return acc\n",
    "\n",
    "space = {\n",
    "    'n_estimators': scope.int(hp.uniform('n_estimators', 1, 100)),\n",
    "    'max_depth': scope.int(hp.uniform('max_depth', 1, 30))\n",
    "\n",
    "}\n",
    "best = fmin(acc_wrapper, space, algo=tpe.suggest, max_evals=5)\n",
    "print(\"\")\n",
    "print(\"Best Raw:\", best)\n",
    "print(\"Best Readable:\", space_eval(space, best))"
   ]
  },
  {
   "cell_type": "markdown",
   "metadata": {},
   "source": [
    "# Random Forest with `mag` and `hyperopt`"
   ]
  },
  {
   "cell_type": "code",
   "execution_count": 42,
   "metadata": {},
   "outputs": [
    {
     "name": "stdout",
     "output_type": "stream",
     "text": [
      "\n",
      "Best Raw: {'max_depth': 1.3105802146129977, 'n_estimators': 67.18887296488809}\n",
      "Best Readable: {'max_depth': 1, 'n_estimators': 67}\n"
     ]
    }
   ],
   "source": [
    "def acc_wrapper(args):\n",
    "    experiments_dir = '../experiments/results/random_forest_v2'\n",
    "    with Experiment(config=args, experiments_dir=experiments_dir) as experiment:\n",
    "        config = experiment.config\n",
    "        acc = random_forest_acc(config.n_estimators, config.max_depth)\n",
    "        experiment.register_result('accuracy', acc)\n",
    "    return acc\n",
    "\n",
    "space = {\n",
    "    'n_estimators': scope.int(hp.uniform('n_estimators', 1, 100)),\n",
    "    'max_depth': scope.int(hp.uniform('max_depth', 1, 30))\n",
    "\n",
    "}\n",
    "best = fmin(acc_wrapper, space, algo=tpe.suggest, max_evals=5)\n",
    "print(\"\")\n",
    "print(\"Best Raw:\", best)\n",
    "print(\"Best Readable:\", space_eval(space, best))"
   ]
  }
 ],
 "metadata": {
  "kernelspec": {
   "display_name": "Python 3",
   "language": "python",
   "name": "python3"
  },
  "language_info": {
   "codemirror_mode": {
    "name": "ipython",
    "version": 3
   },
   "file_extension": ".py",
   "mimetype": "text/x-python",
   "name": "python",
   "nbconvert_exporter": "python",
   "pygments_lexer": "ipython3",
   "version": "3.6.8"
  }
 },
 "nbformat": 4,
 "nbformat_minor": 2
}
