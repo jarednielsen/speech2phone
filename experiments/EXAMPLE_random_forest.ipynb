{
 "cells": [
  {
   "cell_type": "code",
   "execution_count": 1,
   "metadata": {},
   "outputs": [
    {
     "name": "stderr",
     "output_type": "stream",
     "text": [
      "/Users/Seong-EunCho/anaconda/lib/python3.6/site-packages/sklearn/ensemble/weight_boosting.py:29: DeprecationWarning: numpy.core.umath_tests is an internal NumPy module and should not be imported. It will be removed in a future NumPy release.\n",
      "  from numpy.core.umath_tests import inner1d\n"
     ]
    }
   ],
   "source": [
    "import matplotlib.pyplot as plt\n",
    "import matplotlib.animation as animation\n",
    "import numpy as np\n",
    "from sklearn.ensemble import RandomForestClassifier\n",
    "\n",
    "from hyperopt import hp\n",
    "from hyperopt import fmin, tpe, space_eval\n",
    "from hyperopt.pyll.base import scope\n",
    "\n",
    "\n",
    "import mag\n",
    "from mag.experiment import Experiment\n",
    "from mag import summarize\n",
    "\n",
    "\n",
    "from speech2phone.preprocessing import get_TIMIT, get_phones\n",
    "from speech2phone.preprocessing.filters import mel\n",
    "\n",
    "np.set_printoptions(precision=3)"
   ]
  },
  {
   "cell_type": "markdown",
   "metadata": {},
   "source": [
    "# Random Forest with `mag`"
   ]
  },
  {
   "cell_type": "code",
   "execution_count": 2,
   "metadata": {},
   "outputs": [
    {
     "name": "stdout",
     "output_type": "stream",
     "text": [
      "Loading toy/mel set from cache... done.\n"
     ]
    }
   ],
   "source": [
    "X_toy, y_toy = get_TIMIT(dataset='toy', preprocessor=mel, TIMIT_root='../TIMIT/TIMIT')"
   ]
  },
  {
   "cell_type": "code",
   "execution_count": 3,
   "metadata": {},
   "outputs": [
    {
     "ename": "ValueError",
     "evalue": "Experiment with identifier 10|11 already exists. Set `resume_from` to the corresponding identifier (directory name) 10|11 or delete it manually and then rerun the code.",
     "output_type": "error",
     "traceback": [
      "\u001b[0;31m---------------------------------------------------------------------------\u001b[0m",
      "\u001b[0;31mValueError\u001b[0m                                Traceback (most recent call last)",
      "\u001b[0;32m<ipython-input-3-a7efe7480eac>\u001b[0m in \u001b[0;36m<module>\u001b[0;34m()\u001b[0m\n\u001b[1;32m     12\u001b[0m     \u001b[0;34m'max_depth'\u001b[0m\u001b[0;34m:\u001b[0m \u001b[0;36m10\u001b[0m\u001b[0;34m\u001b[0m\u001b[0;34m\u001b[0m\u001b[0m\n\u001b[1;32m     13\u001b[0m }\n\u001b[0;32m---> 14\u001b[0;31m \u001b[0;32mwith\u001b[0m \u001b[0mExperiment\u001b[0m\u001b[0;34m(\u001b[0m\u001b[0mconfig\u001b[0m\u001b[0;34m=\u001b[0m\u001b[0mconfig\u001b[0m\u001b[0;34m,\u001b[0m \u001b[0mexperiments_dir\u001b[0m\u001b[0;34m=\u001b[0m\u001b[0mexperiments_dir\u001b[0m\u001b[0;34m)\u001b[0m \u001b[0;32mas\u001b[0m \u001b[0mexperiment\u001b[0m\u001b[0;34m:\u001b[0m\u001b[0;34m\u001b[0m\u001b[0;34m\u001b[0m\u001b[0m\n\u001b[0m\u001b[1;32m     15\u001b[0m     \u001b[0mconfig\u001b[0m \u001b[0;34m=\u001b[0m \u001b[0mexperiment\u001b[0m\u001b[0;34m.\u001b[0m\u001b[0mconfig\u001b[0m\u001b[0;34m\u001b[0m\u001b[0;34m\u001b[0m\u001b[0m\n\u001b[1;32m     16\u001b[0m     \u001b[0macc\u001b[0m \u001b[0;34m=\u001b[0m \u001b[0mrandom_forest_acc\u001b[0m\u001b[0;34m(\u001b[0m\u001b[0mconfig\u001b[0m\u001b[0;34m.\u001b[0m\u001b[0mn_estimators\u001b[0m\u001b[0;34m,\u001b[0m \u001b[0mconfig\u001b[0m\u001b[0;34m.\u001b[0m\u001b[0mmax_depth\u001b[0m\u001b[0;34m)\u001b[0m\u001b[0;34m\u001b[0m\u001b[0;34m\u001b[0m\u001b[0m\n",
      "\u001b[0;32m~/anaconda/lib/python3.6/site-packages/mag/experiment.py\u001b[0m in \u001b[0;36m__init__\u001b[0;34m(self, config, resume_from, logfile_name, experiments_dir, implicit_resuming)\u001b[0m\n\u001b[1;32m     77\u001b[0m                         \"manually and then rerun the code.\".format(\n\u001b[1;32m     78\u001b[0m                             \u001b[0midentifier\u001b[0m\u001b[0;34m=\u001b[0m\u001b[0mself\u001b[0m\u001b[0;34m.\u001b[0m\u001b[0mconfig\u001b[0m\u001b[0;34m.\u001b[0m\u001b[0midentifier\u001b[0m\u001b[0;34m,\u001b[0m\u001b[0;34m\u001b[0m\u001b[0;34m\u001b[0m\u001b[0m\n\u001b[0;32m---> 79\u001b[0;31m                             \u001b[0mdirectory\u001b[0m\u001b[0;34m=\u001b[0m\u001b[0mself\u001b[0m\u001b[0;34m.\u001b[0m\u001b[0mconfig\u001b[0m\u001b[0;34m.\u001b[0m\u001b[0midentifier\u001b[0m\u001b[0;34m\u001b[0m\u001b[0;34m\u001b[0m\u001b[0m\n\u001b[0m\u001b[1;32m     80\u001b[0m                         )\n\u001b[1;32m     81\u001b[0m                     )\n",
      "\u001b[0;31mValueError\u001b[0m: Experiment with identifier 10|11 already exists. Set `resume_from` to the corresponding identifier (directory name) 10|11 or delete it manually and then rerun the code."
     ]
    }
   ],
   "source": [
    "def random_forest_acc(n_estimators, max_depth):\n",
    "    rf = RandomForestClassifier(n_estimators=n_estimators, max_depth=max_depth, random_state=42)\n",
    "    rf.fit(X_toy, y_toy)\n",
    "    acc = rf.score(X_toy, y_toy)\n",
    "    return acc\n",
    "\n",
    "\n",
    "\n",
    "experiments_dir = '../experiments/results/random_forest_v1'\n",
    "config = {\n",
    "    'n_estimators': 11,\n",
    "    'max_depth': 10\n",
    "}\n",
    "with Experiment(config=config, experiments_dir=experiments_dir) as experiment:\n",
    "    config = experiment.config\n",
    "    acc = random_forest_acc(config.n_estimators, config.max_depth)\n",
    "    \n",
    "    experiment.register_result('accuracy', acc)"
   ]
  },
  {
   "cell_type": "markdown",
   "metadata": {},
   "source": [
    "# Random Forest with `hyperopt`"
   ]
  },
  {
   "cell_type": "code",
   "execution_count": 7,
   "metadata": {},
   "outputs": [
    {
     "name": "stdout",
     "output_type": "stream",
     "text": [
      "{'max_depth': 11, 'n_estimators': 73}: 0.905\n",
      "{'max_depth': 15, 'n_estimators': 76}: 0.999\n",
      "{'max_depth': 20, 'n_estimators': 75}: 1.000\n",
      "{'max_depth': 18, 'n_estimators': 42}: 1.000\n",
      "{'max_depth': 17, 'n_estimators': 68}: 1.000\n",
      "{'max_depth': 8, 'n_estimators': 63}: 0.563\n",
      "{'max_depth': 1, 'n_estimators': 20}: 0.135\n",
      "{'max_depth': 26, 'n_estimators': 83}: 1.000\n",
      "{'max_depth': 5, 'n_estimators': 14}: 0.308\n",
      "{'max_depth': 14, 'n_estimators': 42}: 0.992\n",
      "{'max_depth': 27, 'n_estimators': 33}: 1.000\n",
      "{'max_depth': 4, 'n_estimators': 27}: 0.268\n",
      "{'max_depth': 20, 'n_estimators': 6}: 0.957\n",
      "{'max_depth': 12, 'n_estimators': 26}: 0.931\n",
      "{'max_depth': 6, 'n_estimators': 31}: 0.382\n",
      "{'max_depth': 11, 'n_estimators': 26}: 0.877\n",
      "{'max_depth': 27, 'n_estimators': 88}: 1.000\n",
      "{'max_depth': 23, 'n_estimators': 43}: 1.000\n",
      "{'max_depth': 11, 'n_estimators': 54}: 0.897\n",
      "{'max_depth': 3, 'n_estimators': 98}: 0.243\n",
      "{'max_depth': 19, 'n_estimators': 56}: 1.000\n",
      "{'max_depth': 29, 'n_estimators': 42}: 1.000\n",
      "{'max_depth': 24, 'n_estimators': 3}: 0.839\n",
      "{'max_depth': 19, 'n_estimators': 86}: 1.000\n",
      "{'max_depth': 21, 'n_estimators': 95}: 1.000\n",
      "{'max_depth': 22, 'n_estimators': 97}: 1.000\n",
      "{'max_depth': 22, 'n_estimators': 93}: 1.000\n",
      "{'max_depth': 29, 'n_estimators': 78}: 1.000\n",
      "{'max_depth': 29, 'n_estimators': 55}: 1.000\n",
      "{'max_depth': 27, 'n_estimators': 67}: 1.000\n",
      "{'max_depth': 25, 'n_estimators': 66}: 1.000\n",
      "{'max_depth': 17, 'n_estimators': 85}: 1.000\n",
      "{'max_depth': 17, 'n_estimators': 86}: 1.000\n",
      "{'max_depth': 25, 'n_estimators': 76}: 1.000\n",
      "{'max_depth': 9, 'n_estimators': 90}: 0.686\n",
      "{'max_depth': 28, 'n_estimators': 41}: 1.000\n",
      "{'max_depth': 24, 'n_estimators': 47}: 1.000\n",
      "{'max_depth': 15, 'n_estimators': 70}: 0.999\n",
      "{'max_depth': 29, 'n_estimators': 60}: 1.000\n",
      "{'max_depth': 21, 'n_estimators': 50}: 1.000\n",
      "{'max_depth': 21, 'n_estimators': 15}: 0.998\n",
      "{'max_depth': 19, 'n_estimators': 79}: 1.000\n",
      "{'max_depth': 13, 'n_estimators': 60}: 0.982\n",
      "{'max_depth': 23, 'n_estimators': 33}: 1.000\n",
      "{'max_depth': 15, 'n_estimators': 37}: 0.999\n",
      "{'max_depth': 17, 'n_estimators': 83}: 1.000\n",
      "{'max_depth': 18, 'n_estimators': 72}: 1.000\n",
      "{'max_depth': 8, 'n_estimators': 82}: 0.564\n",
      "{'max_depth': 10, 'n_estimators': 61}: 0.805\n",
      "{'max_depth': 25, 'n_estimators': 99}: 1.000\n",
      "\n",
      "Best Raw: {'max_depth': 20.23050713974067, 'n_estimators': 75.53083953155394}\n",
      "Best Readable: {'max_depth': 20, 'n_estimators': 75}\n"
     ]
    }
   ],
   "source": [
    "def acc_wrapper(args):\n",
    "    acc = random_forest_acc(args['n_estimators'], args['max_depth'])\n",
    "    print(\"{}: {:.3f}\".format(args, acc))\n",
    "    return -acc\n",
    "\n",
    "space = {\n",
    "    'n_estimators': scope.int(hp.uniform('n_estimators', 1, 100)),\n",
    "    'max_depth': scope.int(hp.uniform('max_depth', 1, 30))\n",
    "\n",
    "}\n",
    "best = fmin(acc_wrapper, space, algo=tpe.suggest, max_evals=50)\n",
    "print(\"\")\n",
    "print(\"Best Raw:\", best)\n",
    "print(\"Best Readable:\", space_eval(space, best))"
   ]
  },
  {
   "cell_type": "markdown",
   "metadata": {},
   "source": [
    "# Random Forest with `mag` and `hyperopt`"
   ]
  },
  {
   "cell_type": "code",
   "execution_count": 6,
   "metadata": {},
   "outputs": [
    {
     "name": "stdout",
     "output_type": "stream",
     "text": [
      "\n",
      "Best Raw: {'max_depth': 22.532586122234616, 'n_estimators': 41.60007385667237}\n",
      "Best Readable: {'max_depth': 22, 'n_estimators': 41}\n"
     ]
    }
   ],
   "source": [
    "def acc_wrapper(args):\n",
    "    experiments_dir = '../experiments/results/random_forest_v2'\n",
    "    with Experiment(config=args, experiments_dir=experiments_dir) as experiment:\n",
    "        config = experiment.config\n",
    "        acc = random_forest_acc(config.n_estimators, config.max_depth)\n",
    "        experiment.register_result('accuracy', acc)\n",
    "    return -acc\n",
    "\n",
    "space = {\n",
    "    'n_estimators': scope.int(hp.uniform('n_estimators', 1, 100)),\n",
    "    'max_depth': scope.int(hp.uniform('max_depth', 1, 30))\n",
    "\n",
    "}\n",
    "best = fmin(acc_wrapper, space, algo=tpe.suggest, max_evals=5)\n",
    "print(\"\")\n",
    "print(\"Best Raw:\", best)\n",
    "print(\"Best Readable:\", space_eval(space, best))"
   ]
  },
  {
   "cell_type": "code",
   "execution_count": null,
   "metadata": {},
   "outputs": [],
   "source": []
  }
 ],
 "metadata": {
  "kernelspec": {
   "display_name": "Python 3",
   "language": "python",
   "name": "python3"
  },
  "language_info": {
   "codemirror_mode": {
    "name": "ipython",
    "version": 3
   },
   "file_extension": ".py",
   "mimetype": "text/x-python",
   "name": "python",
   "nbconvert_exporter": "python",
   "pygments_lexer": "ipython3",
   "version": "3.6.8"
  }
 },
 "nbformat": 4,
 "nbformat_minor": 2
}
