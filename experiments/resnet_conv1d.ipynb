{
 "cells": [
  {
   "cell_type": "markdown",
   "metadata": {},
   "source": [
    "# 1-D Convolutional Networks for Phoneme Recognition\n",
    "Architecture inspired by https://arxiv.org/pdf/1707.01836.pdf"
   ]
  },
  {
   "cell_type": "code",
   "execution_count": 1,
   "metadata": {},
   "outputs": [],
   "source": [
    "import matplotlib.pyplot as plt\n",
    "import matplotlib.animation as animation\n",
    "import numpy as np\n",
    "from sklearn.ensemble import RandomForestClassifier\n",
    "from scipy import signal\n",
    "import torch\n",
    "import torch.nn as nn\n",
    "import torch.nn.functional as F\n",
    "import torch.optim as optim\n",
    "from torch.utils.data import DataLoader, TensorDataset, random_split\n",
    "import sys\n",
    "sys.path.append('../../')\n",
    "\n",
    "from speech2phone.preprocessing.TIMIT.phones import get_data, get_phones, phones"
   ]
  },
  {
   "cell_type": "markdown",
   "metadata": {},
   "source": [
    "### Load Data"
   ]
  },
  {
   "cell_type": "code",
   "execution_count": 3,
   "metadata": {},
   "outputs": [],
   "source": [
    "def resample(data, y):\n",
    "    \"\"\"Resample audio to 800 points.\"\"\"\n",
    "    return signal.resample(data, 800), y\n",
    "\n",
    "def resample512(data, y):\n",
    "    return signal.resample(data, 512), y\n",
    "\n",
    "def accuracy(output, target, topk=(1,)):\n",
    "    \"\"\"Computes the accuracy over the k top predictions for the specified values of k\"\"\"\n",
    "    with torch.no_grad():\n",
    "        maxk = max(topk)\n",
    "        batch_size = target.size(0)\n",
    "\n",
    "        _, pred = output.topk(k=maxk, dim=1)\n",
    "        pred = pred.t()\n",
    "        correct = pred.eq(target.view(1, -1).expand_as(pred))\n",
    "\n",
    "        res = []\n",
    "        for k in topk:\n",
    "            correct_k = correct[:k].view(-1).float().sum(0, keepdim=True)\n",
    "            res.append(correct_k / batch_size)\n",
    "        return res"
   ]
  },
  {
   "cell_type": "code",
   "execution_count": 4,
   "metadata": {},
   "outputs": [
    {
     "name": "stdout",
     "output_type": "stream",
     "text": [
      "/mnt/pccfs/backed_up/jaredtn/speech2phone/experiments\n",
      "/mnt/pccfs/backed_up/jaredtn/speech2phone/TIMIT/TIMIT\n",
      "Loading train/resample/500 set from cache... done.\n"
     ]
    }
   ],
   "source": [
    "import os\n",
    "print(os.getcwd())\n",
    "print(os.path.abspath('../TIMIT/TIMIT'))\n",
    "\n",
    "audio, labels = get_data(preprocessor=resample, batch_preprocess=False, TIMIT_root='../TIMIT/TIMIT', padding=500)\n",
    "phonemes = get_phones(labels)\n",
    "n_phones = len(phones)"
   ]
  },
  {
   "cell_type": "code",
   "execution_count": 5,
   "metadata": {},
   "outputs": [
    {
     "name": "stdout",
     "output_type": "stream",
     "text": [
      "torch.Size([132810, 1, 800])\n",
      "torch.Size([132810])\n"
     ]
    }
   ],
   "source": [
    "audio_tensor = torch.Tensor(audio).unsqueeze(1)\n",
    "labels_tensor = torch.Tensor(labels)\n",
    "print(audio_tensor.shape)\n",
    "print(labels_tensor.shape)"
   ]
  },
  {
   "cell_type": "code",
   "execution_count": 6,
   "metadata": {},
   "outputs": [
    {
     "data": {
      "image/png": "[encoded data removed]",
      "text/plain": [
       "<Figure size 432x288 with 1 Axes>"
      ]
     },
     "metadata": {
      "needs_background": "light"
     },
     "output_type": "display_data"
    }
   ],
   "source": [
    "def display_and_save_phoneme(i):\n",
    "    phoneme, label = audio_tensor[i,0].numpy(), get_phones(int(labels_tensor[i].item()))\n",
    "    plt.plot(phoneme)\n",
    "    plt.xlabel(\"Time\")\n",
    "    plt.ylabel(\"Audio\")\n",
    "    plt.title(label)\n",
    "    plt.savefig('phoneme_{}.jpg'.format(label))\n",
    "    plt.show()\n",
    "    \n",
    "display_and_save_phoneme(np.random.randint(100))"
   ]
  },
  {
   "cell_type": "markdown",
   "metadata": {},
   "source": [
    "### Train/Test Split"
   ]
  },
  {
   "cell_type": "code",
   "execution_count": 7,
   "metadata": {},
   "outputs": [],
   "source": [
    "full_dataset = TensorDataset(audio_tensor, labels_tensor) # Dataset requires same batch dimension\n",
    "train_size = int(0.9 * len(full_dataset))\n",
    "test_size = len(full_dataset) - train_size\n",
    "train_dataset, test_dataset = random_split(full_dataset, [train_size, test_size])"
   ]
  },
  {
   "cell_type": "markdown",
   "metadata": {},
   "source": [
    "### Train the Model"
   ]
  },
  {
   "cell_type": "code",
   "execution_count": 9,
   "metadata": {},
   "outputs": [
    {
     "name": "stdout",
     "output_type": "stream",
     "text": [
      "n_embedding: 1600\n",
      "Batches per Epoch: 934\n",
      "[1,   933] train loss: 1.692 test loss: 1.351 train top1: 0.656, test top1: 0.569, test top3: 0.841\n",
      "[2,   933] train loss: 1.240 test loss: 1.165 train top1: 0.750, test top1: 0.620, test top3: 0.867\n",
      "[3,   933] train loss: 1.099 test loss: 1.116 train top1: 0.766, test top1: 0.646, test top3: 0.889\n",
      "[4,   933] train loss: 1.020 test loss: 1.062 train top1: 0.766, test top1: 0.648, test top3: 0.896\n",
      "[5,   933] train loss: 0.972 test loss: 1.038 train top1: 0.781, test top1: 0.658, test top3: 0.889\n",
      "[6,   933] train loss: 0.932 test loss: 1.018 train top1: 0.797, test top1: 0.679, test top3: 0.898\n",
      "[7,   933] train loss: 0.903 test loss: 1.017 train top1: 0.773, test top1: 0.663, test top3: 0.909\n",
      "[8,   933] train loss: 0.876 test loss: 0.996 train top1: 0.781, test top1: 0.687, test top3: 0.907\n",
      "[9,   933] train loss: 0.854 test loss: 0.995 train top1: 0.789, test top1: 0.672, test top3: 0.910\n",
      "[10,   933] train loss: 0.835 test loss: 0.999 train top1: 0.734, test top1: 0.672, test top3: 0.914\n",
      "Epoch    10: reducing learning rate of group 0 to 1.0000e-03.\n",
      "[11,   933] train loss: 0.817 test loss: 0.992 train top1: 0.781, test top1: 0.685, test top3: 0.907\n",
      "[12,   933] train loss: 0.706 test loss: 0.902 train top1: 0.789, test top1: 0.707, test top3: 0.925\n",
      "[13,   933] train loss: 0.682 test loss: 0.908 train top1: 0.797, test top1: 0.705, test top3: 0.937\n",
      "[14,   933] train loss: 0.672 test loss: 0.902 train top1: 0.797, test top1: 0.708, test top3: 0.935\n",
      "[15,   933] train loss: 0.665 test loss: 0.919 train top1: 0.789, test top1: 0.698, test top3: 0.934\n",
      "[16,   933] train loss: 0.660 test loss: 0.921 train top1: 0.805, test top1: 0.698, test top3: 0.922\n",
      "Epoch    16: reducing learning rate of group 0 to 1.0000e-04.\n",
      "[17,   933] train loss: 0.653 test loss: 0.941 train top1: 0.773, test top1: 0.699, test top3: 0.933\n",
      "[18,   933] train loss: 0.637 test loss: 0.923 train top1: 0.781, test top1: 0.722, test top3: 0.925\n",
      "[19,   933] train loss: 0.633 test loss: 0.917 train top1: 0.828, test top1: 0.720, test top3: 0.929\n",
      "[20,   933] train loss: 0.632 test loss: 0.907 train top1: 0.812, test top1: 0.704, test top3: 0.937\n",
      "Epoch    20: reducing learning rate of group 0 to 1.0000e-05.\n",
      "[21,   933] train loss: 0.632 test loss: 0.925 train top1: 0.820, test top1: 0.714, test top3: 0.924\n",
      "[22,   933] train loss: 0.628 test loss: 0.939 train top1: 0.828, test top1: 0.690, test top3: 0.929\n",
      "[23,   933] train loss: 0.628 test loss: 0.914 train top1: 0.836, test top1: 0.708, test top3: 0.932\n",
      "Epoch    23: reducing learning rate of group 0 to 1.0000e-06.\n",
      "[24,   933] train loss: 0.630 test loss: 0.931 train top1: 0.828, test top1: 0.714, test top3: 0.923\n",
      "[25,   933] train loss: 0.630 test loss: 0.915 train top1: 0.820, test top1: 0.714, test top3: 0.928\n",
      "[26,   933] train loss: 0.628 test loss: 0.915 train top1: 0.766, test top1: 0.721, test top3: 0.920\n",
      "Epoch    26: reducing learning rate of group 0 to 1.0000e-07.\n",
      "[27,   933] train loss: 0.631 test loss: 0.914 train top1: 0.789, test top1: 0.712, test top3: 0.936\n",
      "[28,   933] train loss: 0.628 test loss: 0.897 train top1: 0.820, test top1: 0.710, test top3: 0.932\n",
      "[29,   933] train loss: 0.628 test loss: 0.899 train top1: 0.797, test top1: 0.724, test top3: 0.931\n",
      "[30,   933] train loss: 0.628 test loss: 0.919 train top1: 0.820, test top1: 0.709, test top3: 0.933\n",
      "[31,   933] train loss: 0.629 test loss: 0.914 train top1: 0.789, test top1: 0.700, test top3: 0.934\n",
      "Epoch    31: reducing learning rate of group 0 to 1.0000e-08.\n",
      "[32,   933] train loss: 0.630 test loss: 0.938 train top1: 0.781, test top1: 0.713, test top3: 0.923\n",
      "[33,   933] train loss: 0.629 test loss: 0.896 train top1: 0.828, test top1: 0.709, test top3: 0.938\n",
      "[34,   933] train loss: 0.629 test loss: 0.926 train top1: 0.789, test top1: 0.694, test top3: 0.931\n",
      "[35,   933] train loss: 0.629 test loss: 0.923 train top1: 0.789, test top1: 0.710, test top3: 0.930\n",
      "[36,   933] train loss: 0.629 test loss: 0.909 train top1: 0.797, test top1: 0.717, test top3: 0.933\n",
      "[37,   933] train loss: 0.627 test loss: 0.935 train top1: 0.805, test top1: 0.692, test top3: 0.927\n",
      "[38,   933] train loss: 0.629 test loss: 0.945 train top1: 0.820, test top1: 0.704, test top3: 0.922\n",
      "[39,   933] train loss: 0.628 test loss: 0.917 train top1: 0.781, test top1: 0.700, test top3: 0.925\n",
      "[40,   933] train loss: 0.630 test loss: 0.913 train top1: 0.781, test top1: 0.706, test top3: 0.931\n",
      "[41,   933] train loss: 0.629 test loss: 0.891 train top1: 0.797, test top1: 0.719, test top3: 0.936\n",
      "[42,   933] train loss: 0.628 test loss: 0.929 train top1: 0.805, test top1: 0.710, test top3: 0.923\n",
      "[43,   933] train loss: 0.628 test loss: 0.912 train top1: 0.797, test top1: 0.714, test top3: 0.929\n",
      "[44,   933] train loss: 0.627 test loss: 0.917 train top1: 0.828, test top1: 0.689, test top3: 0.935\n",
      "[45,   933] train loss: 0.627 test loss: 0.923 train top1: 0.789, test top1: 0.710, test top3: 0.929\n",
      "[46,   933] train loss: 0.630 test loss: 0.897 train top1: 0.797, test top1: 0.706, test top3: 0.928\n",
      "[47,   933] train loss: 0.628 test loss: 0.917 train top1: 0.805, test top1: 0.709, test top3: 0.921\n",
      "[48,   933] train loss: 0.626 test loss: 0.921 train top1: 0.812, test top1: 0.698, test top3: 0.924\n",
      "[49,   933] train loss: 0.630 test loss: 0.932 train top1: 0.773, test top1: 0.701, test top3: 0.934\n",
      "[50,   933] train loss: 0.629 test loss: 0.915 train top1: 0.820, test top1: 0.705, test top3: 0.933\n",
      "done\n"
     ]
    }
   ],
   "source": [
    "class ConvNet1D(nn.Module):\n",
    "    def __init__(self, num_inputs, num_outputs, kernel_size=15, stride=1, padding=7, conv_dropout=0.2):\n",
    "        super().__init__()\n",
    "        self.n_channels = 64\n",
    "        self.n_embedding = self.n_channels * 25\n",
    "        print(\"n_embedding: {}\".format(self.n_embedding))\n",
    "        \n",
    "        # input (N, 1, 800) - no initial dropout before residual connections\n",
    "        self.init = nn.Sequential(\n",
    "            nn.Conv1d(in_channels=1, out_channels=self.n_channels, kernel_size=kernel_size, stride=1, padding=padding),\n",
    "            nn.BatchNorm1d(self.n_channels),\n",
    "            nn.ReLU()\n",
    "        )\n",
    "        \n",
    "        self.pool4 = nn.AvgPool1d(kernel_size=4)\n",
    "        self.pool2 = nn.AvgPool1d(kernel_size=2)\n",
    "        \n",
    "        # (N, 128, 800)\n",
    "        self.downsample4 = nn.Sequential(\n",
    "            nn.Conv1d(in_channels=self.n_channels, out_channels=self.n_channels, kernel_size=kernel_size, stride=1, padding=padding),\n",
    "            nn.BatchNorm1d(self.n_channels),\n",
    "            nn.ReLU(),\n",
    "            nn.Dropout(conv_dropout),\n",
    "            nn.Conv1d(in_channels=self.n_channels, out_channels=self.n_channels, kernel_size=kernel_size, stride=4, padding=padding)\n",
    "        )\n",
    "        \n",
    "        # (N, 128, 200)\n",
    "        \n",
    "        # apply lots of pooling\n",
    "        \n",
    "        # (N, 128, 25)\n",
    "    \n",
    "        n_res_blocks = 3\n",
    "        channel_lengths = [\n",
    "            self.n_channels * (2 ** (i // 4))\n",
    "            for i in range(n_res_blocks+1)\n",
    "        ]\n",
    "        channel_lengths = [self.n_channels for i in range(n_res_blocks+1)]\n",
    "#         print(channel_lengths)\n",
    "        self.convs = nn.ModuleList([nn.Sequential(\n",
    "            nn.BatchNorm1d(channel_lengths[i]),\n",
    "            nn.ReLU(),\n",
    "            nn.Dropout(conv_dropout),\n",
    "            nn.Conv1d(in_channels=channel_lengths[i], out_channels=channel_lengths[i], kernel_size=kernel_size, stride=1, padding=padding),\n",
    "            \n",
    "            nn.BatchNorm1d(channel_lengths[i]),\n",
    "            nn.ReLU(),\n",
    "            nn.Dropout(conv_dropout),\n",
    "            nn.Conv1d(in_channels=channel_lengths[i], out_channels=channel_lengths[i+1], kernel_size=kernel_size, stride=2, padding=padding),\n",
    "        ) for i in range(n_res_blocks)])\n",
    "        \n",
    "        # (N, 128, 25)\n",
    "        self.predense = nn.Sequential(\n",
    "            nn.BatchNorm1d(channel_lengths[-1]),\n",
    "            nn.ReLU()\n",
    "        )\n",
    "        self.dense = nn.Linear(self.n_embedding, num_outputs)\n",
    "    \n",
    "    def forward(self, x):\n",
    "        x = self.init(x)\n",
    "        x = self.pool4(x) + self.downsample4(x)\n",
    "        \n",
    "        for conv in self.convs:\n",
    "            x = self.pool2(x) + conv(x)\n",
    "#             print(x.shape)\n",
    "                  \n",
    "        x = self.predense(x)\n",
    "        x = x.view(-1, self.n_embedding)\n",
    "        x = self.dense(x)\n",
    "\n",
    "        return x\n",
    "    \n",
    "\n",
    "\n",
    "model = ConvNet1D(num_inputs=800, num_outputs=61).cuda()\n",
    "train_loader = DataLoader(train_dataset, batch_size=128)\n",
    "test_loader = DataLoader(test_dataset, batch_size=1024)\n",
    "\n",
    "criterion = nn.CrossEntropyLoss()\n",
    "optimizer = optim.Adam(model.parameters(), lr=1e-2)\n",
    "scheduler = optim.lr_scheduler.ReduceLROnPlateau(optimizer, 'max', patience=2, verbose=True)\n",
    "n_epochs = 50\n",
    "n_print_every = len(train_loader) - 1\n",
    "\n",
    "print(\"Batches per Epoch: {}\".format(len(train_loader)))\n",
    "\n",
    "for epoch in range(n_epochs):\n",
    "    \n",
    "    running_loss = 0.0\n",
    "    for i, data in enumerate(train_loader, 0):\n",
    "        # get the inputs\n",
    "        inputs, y_truth = data\n",
    "        inputs, y_truth = inputs.cuda(), y_truth.long().cuda()\n",
    "\n",
    "        # zero the parameter gradients\n",
    "        optimizer.zero_grad()\n",
    "\n",
    "        # forward + backward + optimize\n",
    "        outputs = model(inputs)\n",
    "        train_loss = criterion(outputs, y_truth)\n",
    "        train_loss.backward()\n",
    "        optimizer.step()\n",
    "        \n",
    "        y_pred = torch.argmax(outputs, dim=1)\n",
    "        train_acc = (y_pred == y_truth).float().mean()\n",
    "\n",
    "        # print statistics\n",
    "        running_loss += train_loss.item()\n",
    "        if i % n_print_every == n_print_every - 1:    # print every 2000 mini-batches\n",
    "            inputs, y_truth = next(iter(test_loader))\n",
    "            inputs, y_truth = inputs.cuda(), y_truth.long().cuda()\n",
    "            outputs = model(inputs)\n",
    "            test_loss = criterion(outputs, y_truth)\n",
    "            test_acc1, test_acc3 = accuracy(output=outputs, target=y_truth, topk=(1,3))\n",
    "\n",
    "            scheduler.step(test_acc1) # anneal the learning rate if no progress for 5 epochs\n",
    "            \n",
    "            print('[%d, %5d] train loss: %.3f test loss: %.3f train top1: %.3f, test top1: %.3f, test top3: %.3f' %\n",
    "                  (epoch + 1, i + 1, running_loss / n_print_every, test_loss, train_acc, test_acc1, test_acc3))\n",
    "            running_loss = 0.0\n",
    "            \n",
    "                            \n",
    "print(\"done\")"
   ]
  },
  {
   "cell_type": "markdown",
   "metadata": {},
   "source": [
    "Best results so far: 66.5% after 10 epochs (no dropout, 5 128-channel kernel-size-4 convolutional layers, 4-kernel avgpool).  \n",
    "Increasing the number of convolution channels from 64 to 128 works quite well, with limited signs of overfitting.\n",
    "Increasing the learning rate from 1e-4 to 1e-3 boosted things as well (66.2% after 5 epochs).  \n",
    "I'm experimenting with skip connections; hopefully they'll help!  \n",
    "Dropout just makes things worse.  \n",
    "model.eval() makes things worse. That's because of how it interacts with the BatchNorm layer; it uses the stored mean/var instead of computing batch statistics.  \n",
    "\n",
    "Better results!!! 67.7% after 10 epochs (dropout 0.5, 5 layers of 64-channel 16-size-kernel convolutional layers).  \n",
    "Removing residual connections gave 68.1% after 10 epochs. Probably just noise though.  \n",
    "\n",
    "Copying the \"Cardiologist-Level Arrhythmia Detection\" provided 70.0% accuracy after 10 epochs, with dropout 0.5 and Adam lr 3e-3, 64-channel 16-size-kernel convolutional layers.  \n",
    "Using ReduceLROnPlateau with patience 2 also helped, as did reducing conv_dropout from 0.5 to 0.2, as in their paper. 70.7% accuracy after 10.\n",
    "Bumping the Adam learning rate up from 1e-3 to 1e-2, combined with ReduceLROnPlateau, gave us 73.0% accuracy after 10 epochs.  \n",
    "\n",
    "Large batch sizes work well. batch size 32 converges at 67.7%, batch size 128 converges at 73.0%, batch size 256 converges at 75.7%, batch size 512 converges at 73.8%, batch size 1024 converges at 75.9%, batch size 2048 converges at 73.7%.  \n",
    "Batch size 512 converges significantly slower, taking 12 epochs to cross 70%."
   ]
  },
  {
   "cell_type": "code",
   "execution_count": null,
   "metadata": {},
   "outputs": [],
   "source": [
    "print([p.numel() for p in model.parameters()]) # Number of parameters in each layer"
   ]
  }
 ],
 "metadata": {
  "kernelspec": {
   "display_name": "Python 3",
   "language": "python",
   "name": "python3"
  },
  "language_info": {
   "codemirror_mode": {
    "name": "ipython",
    "version": 3
   },
   "file_extension": ".py",
   "mimetype": "text/x-python",
   "name": "python",
   "nbconvert_exporter": "python",
   "pygments_lexer": "ipython3",
   "version": "3.6.7"
  }
 },
 "nbformat": 4,
 "nbformat_minor": 2
}
