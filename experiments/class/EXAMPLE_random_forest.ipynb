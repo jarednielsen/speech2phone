{
 "cells": [
  {
   "cell_type": "code",
   "execution_count": 1,
   "metadata": {},
   "outputs": [],
   "source": [
    "import matplotlib.pyplot as plt\n",
    "import matplotlib.animation as animation\n",
    "import numpy as np\n",
    "from sklearn.ensemble import RandomForestClassifier\n",
    "\n",
    "from hyperopt import hp\n",
    "from hyperopt import fmin, tpe, space_eval\n",
    "from hyperopt.pyll.base import scope\n",
    "\n",
    "\n",
    "import mag\n",
    "from mag.experiment import Experiment\n",
    "from mag import summarize\n",
    "\n",
    "\n",
    "from speech2phone.preprocessing.TIMIT.phones import get_data, get_phones\n",
    "from speech2phone.preprocessing.filters import mel\n",
    "\n",
    "np.set_printoptions(precision=3)"
   ]
  },
  {
   "cell_type": "markdown",
   "metadata": {},
   "source": [
    "# Random Forest with `mag`"
   ]
  },
  {
   "cell_type": "code",
   "execution_count": 2,
   "metadata": {},
   "outputs": [
    {
     "name": "stdout",
     "output_type": "stream",
     "text": [
      "Loading toy/mel/0 set from cache... done.\n"
     ]
    }
   ],
   "source": [
    "X_toy, y_toy = get_data(dataset='toy', preprocessor=mel, TIMIT_root='../TIMIT/TIMIT')"
   ]
  },
  {
   "cell_type": "code",
   "execution_count": 3,
   "metadata": {},
   "outputs": [],
   "source": [
    "def random_forest_acc(n_estimators, max_depth):\n",
    "    rf = RandomForestClassifier(n_estimators=n_estimators, max_depth=max_depth, random_state=42)\n",
    "    rf.fit(X_toy, y_toy)\n",
    "    acc = rf.score(X_toy, y_toy)\n",
    "    return acc\n",
    "\n",
    "\n",
    "\n",
    "experiments_dir = '../experiments/results/random_forest_v1'\n",
    "config = {\n",
    "    'n_estimators': 11,\n",
    "    'max_depth': 10\n",
    "}\n",
    "with Experiment(config=config, experiments_dir=experiments_dir) as experiment:\n",
    "    config = experiment.config\n",
    "    acc = random_forest_acc(config.n_estimators, config.max_depth)\n",
    "    \n",
    "    experiment.register_result('accuracy', acc)"
   ]
  },
  {
   "cell_type": "markdown",
   "metadata": {},
   "source": [
    "# Random Forest with `hyperopt`"
   ]
  },
  {
   "cell_type": "code",
   "execution_count": 4,
   "metadata": {},
   "outputs": [
    {
     "name": "stdout",
     "output_type": "stream",
     "text": [
      "{'max_depth': 21, 'n_estimators': 89}: 1.000\n",
      "{'max_depth': 13, 'n_estimators': 77}: 0.987\n",
      "{'max_depth': 11, 'n_estimators': 75}: 0.905\n",
      "{'max_depth': 28, 'n_estimators': 63}: 1.000\n",
      "{'max_depth': 24, 'n_estimators': 32}: 1.000\n",
      "{'max_depth': 7, 'n_estimators': 16}: 0.432\n",
      "{'max_depth': 11, 'n_estimators': 86}: 0.906\n",
      "{'max_depth': 28, 'n_estimators': 51}: 1.000\n",
      "{'max_depth': 28, 'n_estimators': 86}: 1.000\n",
      "{'max_depth': 7, 'n_estimators': 10}: 0.419\n",
      "{'max_depth': 17, 'n_estimators': 36}: 1.000\n",
      "{'max_depth': 17, 'n_estimators': 63}: 1.000\n",
      "{'max_depth': 6, 'n_estimators': 59}: 0.378\n",
      "{'max_depth': 21, 'n_estimators': 89}: 1.000\n",
      "{'max_depth': 28, 'n_estimators': 61}: 1.000\n",
      "{'max_depth': 1, 'n_estimators': 21}: 0.128\n",
      "{'max_depth': 26, 'n_estimators': 32}: 1.000\n",
      "{'max_depth': 17, 'n_estimators': 4}: 0.885\n",
      "{'max_depth': 1, 'n_estimators': 56}: 0.128\n",
      "{'max_depth': 12, 'n_estimators': 55}: 0.964\n",
      "{'max_depth': 22, 'n_estimators': 99}: 1.000\n",
      "{'max_depth': 24, 'n_estimators': 40}: 1.000\n",
      "{'max_depth': 20, 'n_estimators': 43}: 1.000\n",
      "{'max_depth': 21, 'n_estimators': 98}: 1.000\n",
      "{'max_depth': 24, 'n_estimators': 44}: 1.000\n",
      "{'max_depth': 15, 'n_estimators': 71}: 0.999\n",
      "{'max_depth': 19, 'n_estimators': 96}: 1.000\n",
      "{'max_depth': 24, 'n_estimators': 23}: 0.999\n",
      "{'max_depth': 29, 'n_estimators': 47}: 1.000\n",
      "{'max_depth': 19, 'n_estimators': 91}: 1.000\n",
      "{'max_depth': 14, 'n_estimators': 79}: 0.998\n",
      "{'max_depth': 26, 'n_estimators': 32}: 1.000\n",
      "{'max_depth': 19, 'n_estimators': 75}: 1.000\n",
      "{'max_depth': 9, 'n_estimators': 92}: 0.674\n",
      "{'max_depth': 26, 'n_estimators': 26}: 1.000\n",
      "{'max_depth': 13, 'n_estimators': 70}: 0.985\n",
      "{'max_depth': 29, 'n_estimators': 40}: 1.000\n",
      "{'max_depth': 22, 'n_estimators': 6}: 0.962\n",
      "{'max_depth': 4, 'n_estimators': 81}: 0.267\n",
      "{'max_depth': 16, 'n_estimators': 67}: 0.999\n",
      "{'max_depth': 26, 'n_estimators': 16}: 0.999\n",
      "{'max_depth': 29, 'n_estimators': 52}: 1.000\n",
      "{'max_depth': 29, 'n_estimators': 37}: 1.000\n",
      "{'max_depth': 28, 'n_estimators': 84}: 1.000\n",
      "{'max_depth': 9, 'n_estimators': 50}: 0.671\n",
      "{'max_depth': 22, 'n_estimators': 99}: 1.000\n",
      "{'max_depth': 27, 'n_estimators': 83}: 1.000\n",
      "{'max_depth': 18, 'n_estimators': 85}: 1.000\n",
      "{'max_depth': 16, 'n_estimators': 95}: 1.000\n",
      "{'max_depth': 21, 'n_estimators': 65}: 1.000\n",
      "\n",
      "Best Raw: {'max_depth': 21.372000928636812, 'n_estimators': 89.14933537724163}\n",
      "Best Readable: {'max_depth': 21, 'n_estimators': 89}\n"
     ]
    }
   ],
   "source": [
    "def acc_wrapper(args):\n",
    "    acc = random_forest_acc(args['n_estimators'], args['max_depth'])\n",
    "    print(\"{}: {:.3f}\".format(args, acc))\n",
    "    return -acc\n",
    "\n",
    "space = {\n",
    "    'n_estimators': scope.int(hp.uniform('n_estimators', 1, 100)),\n",
    "    'max_depth': scope.int(hp.uniform('max_depth', 1, 30))\n",
    "\n",
    "}\n",
    "best = fmin(acc_wrapper, space, algo=tpe.suggest, max_evals=50)\n",
    "print(\"\")\n",
    "print(\"Best Raw:\", best)\n",
    "print(\"Best Readable:\", space_eval(space, best))"
   ]
  },
  {
   "cell_type": "markdown",
   "metadata": {},
   "source": [
    "# Random Forest with `mag` and `hyperopt`"
   ]
  },
  {
   "cell_type": "code",
   "execution_count": 5,
   "metadata": {},
   "outputs": [
    {
     "name": "stdout",
     "output_type": "stream",
     "text": [
      "\n",
      "Best Raw: {'max_depth': 22.230556326650923, 'n_estimators': 64.26917198881927}\n",
      "Best Readable: {'max_depth': 22, 'n_estimators': 64}\n"
     ]
    }
   ],
   "source": [
    "def acc_wrapper(args):\n",
    "    experiments_dir = '../experiments/results/random_forest_v2'\n",
    "    with Experiment(config=args, experiments_dir=experiments_dir) as experiment:\n",
    "        config = experiment.config\n",
    "        acc = random_forest_acc(config.n_estimators, config.max_depth)\n",
    "        experiment.register_result('accuracy', acc)\n",
    "    return -acc\n",
    "\n",
    "space = {\n",
    "    'n_estimators': scope.int(hp.uniform('n_estimators', 1, 100)),\n",
    "    'max_depth': scope.int(hp.uniform('max_depth', 1, 30))\n",
    "\n",
    "}\n",
    "best = fmin(acc_wrapper, space, algo=tpe.suggest, max_evals=5)\n",
    "print(\"\")\n",
    "print(\"Best Raw:\", best)\n",
    "print(\"Best Readable:\", space_eval(space, best))"
   ]
  },
  {
   "cell_type": "code",
   "execution_count": null,
   "metadata": {},
   "outputs": [],
   "source": []
  }
 ],
 "metadata": {
  "kernelspec": {
   "display_name": "Python 3",
   "language": "python",
   "name": "python3"
  },
  "language_info": {
   "codemirror_mode": {
    "name": "ipython",
    "version": 3
   },
   "file_extension": ".py",
   "mimetype": "text/x-python",
   "name": "python",
   "nbconvert_exporter": "python",
   "pygments_lexer": "ipython3",
   "version": "3.6.8"
  }
 },
 "nbformat": 4,
 "nbformat_minor": 2
}
